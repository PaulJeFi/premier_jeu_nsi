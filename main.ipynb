{
 "cells": [
  {
   "cell_type": "markdown",
   "metadata": {},
   "source": [
    "# Friends Royal\n",
    "\n",
    "## Jouer\n",
    "\n",
    "Pour jouer, il suffit d'éxécuter la cellule suivante :"
   ]
  },
  {
   "cell_type": "code",
   "execution_count": null,
   "metadata": {},
   "outputs": [],
   "source": [
    "!pip install pygame\n",
    "import main\n",
    "main.main()"
   ]
  },
  {
   "cell_type": "markdown",
   "metadata": {},
   "source": [
    "## Le jeu\n",
    "\n",
    "Ce jeu est un jeu de type shooter à Zombies en mode vue du dessus. Il a été developpé par Térence DE SAINT LÉGER, Paul JÉRÔME--FILIO et Anatole BLANDIN.\n",
    "\n",
    "### Détails techniques\n",
    "#### La trajectoire des zombies\n",
    "La trajectoire des zombies a été un véritable casse tête de pensée. Au début, nous avons simplement tenté de faire se rapprocher les zombies des axes centraux de l'écran, puisque le personnage principal du jeu se trouve au centre de l'écran. Mais le mouvement n'était pas fluide : les zombies se déplaçaient vers les axes et non pas directement vers le centre.\n",
    "Nous avons donc tenté de les faire se déplacer vers le centre de façon plus réelle, car l'expérience de jeu du joueur est une chose que nous tenons à cœur. Sur ce point nous avons eu pas mal de défaites (par exemples les zombies qui s'éloignaient en spirale du centre de l'écran), mais avons finalement réussi en utilisant les coordonnées du vecteur unitaire des zombies vers le centre.\\\n",
    "De façon plus concrète :\\\n",
    "Soient $A({x}_{A},{y}_{A})$ et $B({x}_{B},{y}_{B})$ deux points du plan. $B$ est un zombie et $A$ le personnage principal. Le vecteur unitaire $\\overrightarrow{v}$ de direction $(AB)$ et de sens $B$ vers $A$ est donc :\n",
    "\\begin{align*}\n",
    "    \\overrightarrow{v}&=\\frac{\\overrightarrow{BA}}{\\left|\\left|\\overrightarrow{BA}\\right|\\right|}\\\\\n",
    "    \\overrightarrow{v}&=\\frac{\\overrightarrow{\\binom{{x}_{A}-{x}_{B}}{{y}_{A}-{y}_{B}}}}{\\left|\\left|\\overrightarrow{\\binom{{x}_{A}-{x}_{B}}{{y}_{A}-{y}_{B}}}\\right|\\right|}\\\\\n",
    "    \\overrightarrow{v}&=\\frac{\\overrightarrow{\\binom{{x}_{A}-{x}_{B}}{{y}_{A}-{y}_{B}}}}{\\sqrt{{\\left({x}_{A}-{x}_{B}\\right)}^{2}+{\\left({y}_{A}-{y}_{B}\\right)}^{2}}}\\\\\n",
    "\\end{align*}"
   ]
  },
  {
   "cell_type": "code",
   "execution_count": 1,
   "metadata": {},
   "outputs": [],
   "source": [
    " if False:\n",
    "        un_sur_l = Q_rsqrt((self.x - x/2)**2 + (self.y - y/2)**2)\n",
    "        self.vect = [un_sur_l * (self.x - x/2), un_sur_l * (self.y - y/2)]"
   ]
  },
  {
   "cell_type": "code",
   "execution_count": null,
   "metadata": {},
   "outputs": [],
   "source": []
  }
 ],
 "metadata": {
  "kernelspec": {
   "display_name": "Python 3",
   "language": "python",
   "name": "python3"
  },
  "language_info": {
   "codemirror_mode": {
    "name": "ipython",
    "version": 3
   },
   "file_extension": ".py",
   "mimetype": "text/x-python",
   "name": "python",
   "nbconvert_exporter": "python",
   "pygments_lexer": "ipython3",
   "version": "3.9.7"
  }
 },
 "nbformat": 4,
 "nbformat_minor": 4
}
